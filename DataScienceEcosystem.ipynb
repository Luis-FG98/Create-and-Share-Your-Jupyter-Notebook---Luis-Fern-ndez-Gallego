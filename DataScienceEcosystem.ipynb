{
 "cells": [
  {
   "cell_type": "markdown",
   "id": "c5ab59e0-2b64-4670-9922-43f10c19fe6a",
   "metadata": {},
   "source": [
    "# Data Science Tools and Ecosystem"
   ]
  },
  {
   "cell_type": "markdown",
   "id": "398edac1-204b-4b0f-b0a2-aa464e89dfbd",
   "metadata": {},
   "source": [
    "In this notebook, Data Science Tools and Ecosystem are summarized."
   ]
  },
  {
   "cell_type": "markdown",
   "id": "f26ca48d-d6e4-4ce6-9c9a-43fdf143a048",
   "metadata": {},
   "source": [
    "Some of the popular languages that Data Scientists use are:\n",
    "1. Python\n",
    "2. R\n",
    "3. SQL\n",
    "4. Java"
   ]
  },
  {
   "cell_type": "markdown",
   "id": "699dc289-082f-4f1a-86e0-cab983681e49",
   "metadata": {},
   "source": [
    "**Objectives:**\n",
    "- List popular languages for Data Science.\n",
    "- Create a Jupyter Notebook.\n",
    "- Insert code and markdown cells.\n",
    "- Learn simple arithmetic operations.\n",
    "- Share your notebook through GitHub."
   ]
  },
  {
   "cell_type": "markdown",
   "id": "5f844e4f-49f2-4255-aed4-752896892f29",
   "metadata": {},
   "source": [
    "Some of the commonly used libraries used by Data Scientists include:\n",
    "\n",
    "Keras  \n",
    "Matplotlib   \n",
    "NumPy  \n",
    "Pandas  \n",
    "SymPy    \n",
    "TensorFlow  "
   ]
  },
  {
   "cell_type": "markdown",
   "id": "4de6faa5-3392-4093-9a68-5ed6b98068a5",
   "metadata": {},
   "source": [
    "| Data Science Tools |\n",
    "|-|\n",
    "| Virtual Studio Code |\n",
    "| Jupyter Lab |\n",
    "| MATLAB |"
   ]
  },
  {
   "cell_type": "markdown",
   "id": "b846a9c4-71be-46f7-be49-235ea36421c9",
   "metadata": {},
   "source": [
    "### Below are a few examples of evaluating arithmetic expressions in Python"
   ]
  },
  {
   "cell_type": "code",
   "execution_count": 10,
   "id": "d50519fc-7841-4e0d-ad79-5e931121f7e7",
   "metadata": {},
   "outputs": [
    {
     "data": {
      "text/plain": [
       "17"
      ]
     },
     "execution_count": 10,
     "metadata": {},
     "output_type": "execute_result"
    }
   ],
   "source": [
    "# This a simple arithmetic expression to multiply then add integers\n",
    "\n",
    "(3*4)+5"
   ]
  },
  {
   "cell_type": "code",
   "execution_count": 11,
   "id": "edcbb36a-a1df-42b3-b729-ae2b9d2cb511",
   "metadata": {},
   "outputs": [
    {
     "data": {
      "text/plain": [
       "3.3333333333333335"
      ]
     },
     "execution_count": 11,
     "metadata": {},
     "output_type": "execute_result"
    }
   ],
   "source": [
    "# This will convert 200 minutes to hours by diving by 60\n",
    "hours = 200 / 60\n",
    "hours"
   ]
  },
  {
   "cell_type": "markdown",
   "id": "52801d7d-f885-4ba0-803e-d9fa4d16cb2f",
   "metadata": {},
   "source": [
    "## Autor\n",
    "Luis Fernández Gallego"
   ]
  },
  {
   "cell_type": "code",
   "execution_count": null,
   "id": "6b12a6f7-bdd3-42fb-9621-fc6b927175cb",
   "metadata": {},
   "outputs": [],
   "source": []
  }
 ],
 "metadata": {
  "kernelspec": {
   "display_name": "Python 3 (ipykernel)",
   "language": "python",
   "name": "python3"
  },
  "language_info": {
   "codemirror_mode": {
    "name": "ipython",
    "version": 3
   },
   "file_extension": ".py",
   "mimetype": "text/x-python",
   "name": "python",
   "nbconvert_exporter": "python",
   "pygments_lexer": "ipython3",
   "version": "3.11.9"
  }
 },
 "nbformat": 4,
 "nbformat_minor": 5
}
